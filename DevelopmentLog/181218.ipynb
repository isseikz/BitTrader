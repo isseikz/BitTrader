{
 "cells": [
  {
   "cell_type": "markdown",
   "metadata": {},
   "source": [
    "# ラベルを作成する"
   ]
  },
  {
   "cell_type": "markdown",
   "metadata": {},
   "source": [
    "## イメージ\n",
    "+ 市場が始まる直前までに得られるデータを用いる\n",
    "+ そのデータを用いて，1週間の価格変動を予測する\n",
    "  →n日後(n=1,2,3,4,5,6,7)について学習させる\n",
    "  + i日目の指標から，i+n日目の値を学習する\n",
    "  1. データを読み込む\n",
    "  2. "
   ]
  },
  {
   "cell_type": "markdown",
   "metadata": {},
   "source": [
    "## 使うモジュール\n",
    "+ numpy"
   ]
  },
  {
   "cell_type": "code",
   "execution_count": 4,
   "metadata": {},
   "outputs": [],
   "source": [
    "import numpy as np"
   ]
  },
  {
   "cell_type": "markdown",
   "metadata": {},
   "source": [
    "1. モデルを作成\n",
    "    + i日の指標を一まとめにした行ベクトルからなる配列を作る"
   ]
  },
  {
   "cell_type": "code",
   "execution_count": 5,
   "metadata": {},
   "outputs": [
    {
     "name": "stdout",
     "output_type": "stream",
     "text": [
      "(1157, 150)\n"
     ]
    }
   ],
   "source": [
    "diff_1 = np.load('diff_0day.npy')\n",
    "_shape = diff_1.shape\n",
    "x = np.zeros((_shape[0], _shape[1] * 10), dtype=float)\n",
    "for id in range(10):\n",
    "    x[:, id * _shape[1]: (id+1) * _shape[1]] = np.load('diff_' + str(id) + 'day.npy')\n",
    "    \n",
    "print(x.shape)"
   ]
  },
  {
   "cell_type": "markdown",
   "metadata": {},
   "source": [
    "2. i日のデータに対する解答を作る\n",
    "    + 用意したデータは(i)日と(i-n)日の差分を取ったデータになっている\n",
    "    + 回答は，(i+n)日の値があればよい\n",
    "    + とりあえずは，始値同士で比較する"
   ]
  },
  {
   "cell_type": "code",
   "execution_count": 6,
   "metadata": {},
   "outputs": [],
   "source": [
    "y = np.zeros((_shape[0]-9, 10), dtype = float)\n",
    "for i in range(_shape[0]-9):\n",
    "    for n in range(10):\n",
    "        y[i, n] = x[i+n,n * 15]"
   ]
  },
  {
   "cell_type": "code",
   "execution_count": 7,
   "metadata": {},
   "outputs": [
    {
     "name": "stdout",
     "output_type": "stream",
     "text": [
      "(1148, 150)\n",
      "(1148, 10)\n",
      "[[  89.  139.  -43. ... -153. -331.    0.]\n",
      " [  50. -132. -253. ... -420. -769.    0.]\n",
      " [-182. -303. -315. ... -819. -550.    0.]\n",
      " ...\n",
      " [  77.   53.    2. ...  339.  281.    0.]\n",
      " [ -24.  -75.  -54. ...  204.  273.    0.]\n",
      " [ -51.  -30.  -10. ...  297.  358.    0.]]\n"
     ]
    }
   ],
   "source": [
    "np.save('x.npy', x[9:_shape[0],:])\n",
    "np.save('y.npy', y)\n",
    "print(x[9:_shape[0],:].shape)\n",
    "print(y.shape)\n",
    "print(y)"
   ]
  },
  {
   "cell_type": "code",
   "execution_count": 8,
   "metadata": {},
   "outputs": [
    {
     "name": "stdout",
     "output_type": "stream",
     "text": [
      "[102.76073414 143.84739806 175.30623188 202.35707873 223.22528557\n",
      " 242.48804017 260.26838122 276.3245837  290.518787     0.        ]\n"
     ]
    }
   ],
   "source": [
    "print(y.std(axis=0))"
   ]
  },
  {
   "cell_type": "code",
   "execution_count": 9,
   "metadata": {},
   "outputs": [],
   "source": [
    "np.savetxt('test.csv', x[0,:], delimiter=', ')"
   ]
  },
  {
   "cell_type": "code",
   "execution_count": null,
   "metadata": {},
   "outputs": [],
   "source": []
  }
 ],
 "metadata": {
  "kernelspec": {
   "display_name": "Python 3",
   "language": "python",
   "name": "python3"
  },
  "language_info": {
   "codemirror_mode": {
    "name": "ipython",
    "version": 3
   },
   "file_extension": ".py",
   "mimetype": "text/x-python",
   "name": "python",
   "nbconvert_exporter": "python",
   "pygments_lexer": "ipython3",
   "version": "3.6.6"
  }
 },
 "nbformat": 4,
 "nbformat_minor": 2
}
